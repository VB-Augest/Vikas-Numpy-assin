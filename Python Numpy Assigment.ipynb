{
 "cells": [
  {
   "cell_type": "code",
   "execution_count": 1,
   "id": "04e79b9d",
   "metadata": {},
   "outputs": [],
   "source": [
    "import numpy as np"
   ]
  },
  {
   "cell_type": "code",
   "execution_count": 11,
   "id": "0f33da44",
   "metadata": {},
   "outputs": [],
   "source": [
    "a = np.array([[1,2,3],\n",
    "              [4,5,6]])"
   ]
  },
  {
   "cell_type": "code",
   "execution_count": 12,
   "id": "e66aef65",
   "metadata": {},
   "outputs": [],
   "source": [
    "b = np.array([[10,11,12],\n",
    "              [13,14,15]])"
   ]
  },
  {
   "cell_type": "code",
   "execution_count": 13,
   "id": "277d0609",
   "metadata": {
    "scrolled": true
   },
   "outputs": [
    {
     "data": {
      "text/plain": [
       "array([[15, 18, 21],\n",
       "       [18, 21, 24]])"
      ]
     },
     "execution_count": 13,
     "metadata": {},
     "output_type": "execute_result"
    }
   ],
   "source": [
    "sum(a,b)"
   ]
  },
  {
   "cell_type": "code",
   "execution_count": null,
   "id": "74f9b098",
   "metadata": {},
   "outputs": [],
   "source": []
  },
  {
   "cell_type": "markdown",
   "id": "40d2b3aa",
   "metadata": {},
   "source": [
    "Q2. Given a numpy array (matrix), how to get a numpy array output which is equal to\n",
    "the original matrix multiplied by a scalar"
   ]
  },
  {
   "cell_type": "code",
   "execution_count": 15,
   "id": "fb1703ac",
   "metadata": {},
   "outputs": [],
   "source": [
    "b = 2*a"
   ]
  },
  {
   "cell_type": "code",
   "execution_count": 16,
   "id": "f6ff098c",
   "metadata": {},
   "outputs": [
    {
     "name": "stdout",
     "output_type": "stream",
     "text": [
      "[[ 2  4  6]\n",
      " [ 8 10 12]]\n"
     ]
    }
   ],
   "source": [
    "print(b)"
   ]
  },
  {
   "cell_type": "code",
   "execution_count": null,
   "id": "2c8dbdfe",
   "metadata": {},
   "outputs": [],
   "source": []
  },
  {
   "cell_type": "markdown",
   "id": "5e974413",
   "metadata": {},
   "source": [
    "Q3. Create an identity matrix of dimension 4-by-4."
   ]
  },
  {
   "cell_type": "code",
   "execution_count": 17,
   "id": "72e624f8",
   "metadata": {},
   "outputs": [
    {
     "data": {
      "text/plain": [
       "array([[1., 0., 0.],\n",
       "       [0., 1., 0.],\n",
       "       [0., 0., 1.]])"
      ]
     },
     "execution_count": 17,
     "metadata": {},
     "output_type": "execute_result"
    }
   ],
   "source": [
    "i = np.eye(3)\n",
    "i"
   ]
  },
  {
   "cell_type": "markdown",
   "id": "d6eb69ed",
   "metadata": {},
   "source": [
    "Q4. Convert a 1-D array to a 3-D array"
   ]
  },
  {
   "cell_type": "code",
   "execution_count": 23,
   "id": "2604fcf7",
   "metadata": {},
   "outputs": [
    {
     "data": {
      "text/plain": [
       "array([[[ 0,  1,  2],\n",
       "        [ 3,  4,  5],\n",
       "        [ 6,  7,  8]],\n",
       "\n",
       "       [[ 9, 10, 11],\n",
       "        [12, 13, 14],\n",
       "        [15, 16, 17]],\n",
       "\n",
       "       [[18, 19, 20],\n",
       "        [21, 22, 23],\n",
       "        [24, 25, 26]]])"
      ]
     },
     "execution_count": 23,
     "metadata": {},
     "output_type": "execute_result"
    }
   ],
   "source": [
    "x = np.array([x for x in range(27)])\n",
    "\n",
    "y = x.reshape((3,3,3))\n",
    "\n",
    "y"
   ]
  },
  {
   "cell_type": "markdown",
   "id": "3c454283",
   "metadata": {},
   "source": [
    "Q5. Convert a binary numpy array (containing only 0s and 1s) to a boolean numpy\n",
    "array"
   ]
  },
  {
   "cell_type": "code",
   "execution_count": 24,
   "id": "49af2658",
   "metadata": {},
   "outputs": [
    {
     "data": {
      "text/plain": [
       "array([[ True, False, False],\n",
       "       [ True,  True,  True],\n",
       "       [False, False, False]])"
      ]
     },
     "execution_count": 24,
     "metadata": {},
     "output_type": "execute_result"
    }
   ],
   "source": [
    "k = np.array([[1, 0, 0],\n",
    "              [1, 1, 1],\n",
    "              [0, 0, 0]])\n",
    "\n",
    "m = k.astype('bool')\n",
    "\n",
    "m"
   ]
  },
  {
   "cell_type": "markdown",
   "id": "28450614",
   "metadata": {},
   "source": [
    "Q6. Convert all the elements of a numpy array from float to integer datatype"
   ]
  },
  {
   "cell_type": "code",
   "execution_count": 25,
   "id": "5ce20d2f",
   "metadata": {},
   "outputs": [
    {
     "data": {
      "text/plain": [
       "array([[2, 3, 1],\n",
       "       [4, 2, 1]])"
      ]
     },
     "execution_count": 25,
     "metadata": {},
     "output_type": "execute_result"
    }
   ],
   "source": [
    "j = np.array([[2.5, 3.8, 1.5],\n",
    "              [4.7, 2.9, 1.56]])\n",
    "\n",
    "p = j.astype('int')\n",
    "\n",
    "p"
   ]
  },
  {
   "cell_type": "markdown",
   "id": "8415737c",
   "metadata": {},
   "source": [
    "Q7. Stack 2 numpy arrays horizontally i.e., 2 arrays having the same 1st dimension\n",
    "(number of rows in 2D arrays)"
   ]
  },
  {
   "cell_type": "code",
   "execution_count": 26,
   "id": "77c6f007",
   "metadata": {},
   "outputs": [
    {
     "data": {
      "text/plain": [
       "array([[ 1,  2,  3,  7,  8,  9],\n",
       "       [ 4,  5,  6, 10, 11, 12]])"
      ]
     },
     "execution_count": 26,
     "metadata": {},
     "output_type": "execute_result"
    }
   ],
   "source": [
    "a1 = np.array([[1,2,3],\n",
    "               [4,5,6]])\n",
    "\n",
    "a2 = np.array([[7,8,9],\n",
    "               [10,11,12]])\n",
    "\n",
    "l = np.hstack((a1, a2))\n",
    "\n",
    "l"
   ]
  },
  {
   "cell_type": "markdown",
   "id": "08bd6776",
   "metadata": {},
   "source": [
    "Q8. Output a sequence of equally gapped 5 numbers in the range 0 to 100 (both\n",
    "inclusive)"
   ]
  },
  {
   "cell_type": "code",
   "execution_count": 27,
   "id": "3a1e7b8e",
   "metadata": {},
   "outputs": [
    {
     "data": {
      "text/plain": [
       "array([  0,   2,   4,   6,   8,  10,  12,  14,  16,  18,  20,  22,  24,\n",
       "        26,  28,  30,  32,  34,  36,  38,  40,  42,  44,  46,  48,  50,\n",
       "        52,  54,  56,  58,  60,  62,  64,  66,  68,  70,  72,  74,  76,\n",
       "        78,  80,  82,  84,  86,  88,  90,  92,  94,  96,  98, 100])"
      ]
     },
     "execution_count": 27,
     "metadata": {},
     "output_type": "execute_result"
    }
   ],
   "source": [
    "g = np.arange(0, 101, 2)\n",
    "\n",
    "g"
   ]
  },
  {
   "cell_type": "markdown",
   "id": "e8e376b7",
   "metadata": {},
   "source": [
    "Q9. Output a matrix (numpy array) of dimension 2-by-3 with each and every value\n",
    "equal to 5\n"
   ]
  },
  {
   "cell_type": "code",
   "execution_count": 33,
   "id": "34631e39",
   "metadata": {},
   "outputs": [
    {
     "data": {
      "text/plain": [
       "array([[5, 5, 5],\n",
       "       [5, 5, 5]])"
      ]
     },
     "execution_count": 33,
     "metadata": {},
     "output_type": "execute_result"
    }
   ],
   "source": [
    "e = np.full((2, 3), 5)\n",
    "e"
   ]
  },
  {
   "cell_type": "markdown",
   "id": "f4ba467d",
   "metadata": {},
   "source": [
    "Q10.Given 2 numpy arrays as matrices, output the result of multiplying the 2 matrices\n",
    "(as a numpy array)\n"
   ]
  },
  {
   "cell_type": "code",
   "execution_count": 34,
   "id": "cbdc8358",
   "metadata": {},
   "outputs": [
    {
     "data": {
      "text/plain": [
       "array([[ 36,  42,  48],\n",
       "       [ 81,  96, 111],\n",
       "       [126, 150, 174]])"
      ]
     },
     "execution_count": 34,
     "metadata": {},
     "output_type": "execute_result"
    }
   ],
   "source": [
    "r = np.array([[1,2,3],\n",
    "              [4,5,6],\n",
    "              [7,8,9]])\n",
    "\n",
    "t = np.array([[2,3,4],\n",
    "              [5,6,7],\n",
    "              [8,9,10]])\n",
    "\n",
    "w = np.matmul(r, t)\n",
    "\n",
    "w"
   ]
  },
  {
   "cell_type": "markdown",
   "id": "5b5decbd",
   "metadata": {},
   "source": [
    "Q11. Output the array element indexes such that the array elements appear in the\n",
    "ascending order"
   ]
  },
  {
   "cell_type": "code",
   "execution_count": 35,
   "id": "45e35036",
   "metadata": {},
   "outputs": [
    {
     "data": {
      "text/plain": [
       "array([2, 3, 1, 4, 0], dtype=int64)"
      ]
     },
     "execution_count": 35,
     "metadata": {},
     "output_type": "execute_result"
    }
   ],
   "source": [
    "array = np.array([46,36,7,9,42])\n",
    "\n",
    "indexes = np.argsort(array)\n",
    "\n",
    "indexes"
   ]
  },
  {
   "cell_type": "markdown",
   "id": "d1f9cc74",
   "metadata": {},
   "source": [
    "Q12.Multiply a 5x3 matrix by a 3x2 matrix (real matrix product)."
   ]
  },
  {
   "cell_type": "code",
   "execution_count": 38,
   "id": "8d7886da",
   "metadata": {},
   "outputs": [
    {
     "data": {
      "text/plain": [
       "array([[1.63648827, 1.38101946],\n",
       "       [1.01941586, 0.94133536],\n",
       "       [1.66922324, 1.33406555],\n",
       "       [1.81440539, 1.51017199],\n",
       "       [0.91098344, 0.85660243]])"
      ]
     },
     "execution_count": 38,
     "metadata": {},
     "output_type": "execute_result"
    }
   ],
   "source": [
    "q = np.random.rand(5,3)\n",
    "t = np.random.rand(3,2)\n",
    "d = np.matmul(q, t)\n",
    "d"
   ]
  },
  {
   "cell_type": "code",
   "execution_count": null,
   "id": "bae389a3",
   "metadata": {},
   "outputs": [],
   "source": []
  }
 ],
 "metadata": {
  "kernelspec": {
   "display_name": "Python 3 (ipykernel)",
   "language": "python",
   "name": "python3"
  },
  "language_info": {
   "codemirror_mode": {
    "name": "ipython",
    "version": 3
   },
   "file_extension": ".py",
   "mimetype": "text/x-python",
   "name": "python",
   "nbconvert_exporter": "python",
   "pygments_lexer": "ipython3",
   "version": "3.10.8"
  }
 },
 "nbformat": 4,
 "nbformat_minor": 5
}
